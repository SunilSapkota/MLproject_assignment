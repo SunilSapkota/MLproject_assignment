{
 "cells": [
  {
   "attachments": {},
   "cell_type": "markdown",
   "metadata": {},
   "source": [
    "## Importing modules"
   ]
  },
  {
   "cell_type": "code",
   "execution_count": 17,
   "metadata": {},
   "outputs": [],
   "source": [
    "import numpy as np\n",
    "import pandas as pd\n",
    "import matplotlib.pyplot as plt\n",
    "import datetime as dt\n"
   ]
  },
  {
   "attachments": {},
   "cell_type": "markdown",
   "metadata": {},
   "source": [
    "#reading data from file"
   ]
  },
  {
   "cell_type": "code",
   "execution_count": 271,
   "metadata": {},
   "outputs": [
    {
     "data": {
      "text/html": [
       "<div>\n",
       "<style scoped>\n",
       "    .dataframe tbody tr th:only-of-type {\n",
       "        vertical-align: middle;\n",
       "    }\n",
       "\n",
       "    .dataframe tbody tr th {\n",
       "        vertical-align: top;\n",
       "    }\n",
       "\n",
       "    .dataframe thead th {\n",
       "        text-align: right;\n",
       "    }\n",
       "</style>\n",
       "<table border=\"1\" class=\"dataframe\">\n",
       "  <thead>\n",
       "    <tr style=\"text-align: right;\">\n",
       "      <th></th>\n",
       "      <th>EnglishDate</th>\n",
       "      <th>NepaliDate</th>\n",
       "      <th>Max</th>\n",
       "      <th>Min</th>\n",
       "      <th>Wind</th>\n",
       "      <th>Rain</th>\n",
       "      <th>Humidity</th>\n",
       "      <th>Cloud</th>\n",
       "      <th>Pressure</th>\n",
       "    </tr>\n",
       "  </thead>\n",
       "  <tbody>\n",
       "    <tr>\n",
       "      <th>0</th>\n",
       "      <td>1/1/2009</td>\n",
       "      <td>17/09/2065</td>\n",
       "      <td>19 °c</td>\n",
       "      <td>6 °c</td>\n",
       "      <td>9 km/hS</td>\n",
       "      <td>0.0 mm</td>\n",
       "      <td>51%</td>\n",
       "      <td>2%</td>\n",
       "      <td>1014 mb</td>\n",
       "    </tr>\n",
       "    <tr>\n",
       "      <th>1</th>\n",
       "      <td>1/1/2010</td>\n",
       "      <td>17/09/2066</td>\n",
       "      <td>18 °c</td>\n",
       "      <td>8 °c</td>\n",
       "      <td>12 km/hSE</td>\n",
       "      <td>0.0 mm</td>\n",
       "      <td>36%</td>\n",
       "      <td>10%</td>\n",
       "      <td>1013 mb</td>\n",
       "    </tr>\n",
       "    <tr>\n",
       "      <th>2</th>\n",
       "      <td>1/1/2011</td>\n",
       "      <td>17/09/2067</td>\n",
       "      <td>15 °c</td>\n",
       "      <td>4 °c</td>\n",
       "      <td>7 km/hSSE</td>\n",
       "      <td>0.5 mm</td>\n",
       "      <td>48%</td>\n",
       "      <td>42%</td>\n",
       "      <td>1015 mb</td>\n",
       "    </tr>\n",
       "    <tr>\n",
       "      <th>3</th>\n",
       "      <td>1/1/2012</td>\n",
       "      <td>17/09/2068</td>\n",
       "      <td>11 °c</td>\n",
       "      <td>2 °c</td>\n",
       "      <td>7 km/hESE</td>\n",
       "      <td>0.1 mm</td>\n",
       "      <td>48%</td>\n",
       "      <td>3%</td>\n",
       "      <td>1011 mb</td>\n",
       "    </tr>\n",
       "    <tr>\n",
       "      <th>4</th>\n",
       "      <td>1/1/2013</td>\n",
       "      <td>17/09/2069</td>\n",
       "      <td>17 °c</td>\n",
       "      <td>7 °c</td>\n",
       "      <td>7 km/hE</td>\n",
       "      <td>0.0 mm</td>\n",
       "      <td>44%</td>\n",
       "      <td>1%</td>\n",
       "      <td>1020 mb</td>\n",
       "    </tr>\n",
       "  </tbody>\n",
       "</table>\n",
       "</div>"
      ],
      "text/plain": [
       "  EnglishDate  NepaliDate    Max   Min       Wind    Rain Humidity Cloud   \n",
       "0    1/1/2009  17/09/2065  19 °c  6 °c    9 km/hS  0.0 mm      51%    2%  \\\n",
       "1    1/1/2010  17/09/2066  18 °c  8 °c  12 km/hSE  0.0 mm      36%   10%   \n",
       "2    1/1/2011  17/09/2067  15 °c  4 °c  7 km/hSSE  0.5 mm      48%   42%   \n",
       "3    1/1/2012  17/09/2068  11 °c  2 °c  7 km/hESE  0.1 mm      48%    3%   \n",
       "4    1/1/2013  17/09/2069  17 °c  7 °c    7 km/hE  0.0 mm      44%    1%   \n",
       "\n",
       "  Pressure  \n",
       "0  1014 mb  \n",
       "1  1013 mb  \n",
       "2  1015 mb  \n",
       "3  1011 mb  \n",
       "4  1020 mb  "
      ]
     },
     "execution_count": 271,
     "metadata": {},
     "output_type": "execute_result"
    }
   ],
   "source": [
    "data = pd.read_csv('weather.csv')\n",
    "\n",
    "data.head()\n",
    "\n",
    "\n",
    "\n"
   ]
  },
  {
   "cell_type": "code",
   "execution_count": 307,
   "metadata": {},
   "outputs": [],
   "source": [
    "import datetime as dt\n",
    "data1 =data.copy()\n",
    "\n",
    "data1[['Day', 'Month', 'Year']] = data1['EnglishDate'].str.split('/', expand=True)\n",
    "data1.drop(['NepaliDate'], axis=1, inplace=True)\n",
    "\n",
    "# data1.sort_values(by=['Year', 'Month', 'Day'], inplace=True)\n",
    "data2 = data1[['Max','Min','Wind','Humidity','Cloud','Pressure','Year', 'Month', 'Day']].copy()\n",
    "for i in data2.columns:\n",
    "     data2[i] = data2[i].replace('[^\\d.]', '', regex=True).astype(float)\n",
    "\n",
    "# data1['EnglishDate'] = pd.to_datetime(data1['EnglishDate'],format='%d/%m/%Y')"
   ]
  },
  {
   "cell_type": "code",
   "execution_count": 308,
   "metadata": {},
   "outputs": [
    {
     "name": "stdout",
     "output_type": "stream",
     "text": [
      "34275\n",
      "34275\n"
     ]
    },
    {
     "data": {
      "text/html": [
       "<div>\n",
       "<style scoped>\n",
       "    .dataframe tbody tr th:only-of-type {\n",
       "        vertical-align: middle;\n",
       "    }\n",
       "\n",
       "    .dataframe tbody tr th {\n",
       "        vertical-align: top;\n",
       "    }\n",
       "\n",
       "    .dataframe thead th {\n",
       "        text-align: right;\n",
       "    }\n",
       "</style>\n",
       "<table border=\"1\" class=\"dataframe\">\n",
       "  <thead>\n",
       "    <tr style=\"text-align: right;\">\n",
       "      <th></th>\n",
       "      <th>Max</th>\n",
       "      <th>Min</th>\n",
       "      <th>Wind</th>\n",
       "      <th>Humidity</th>\n",
       "      <th>Cloud</th>\n",
       "      <th>Pressure</th>\n",
       "      <th>Year</th>\n",
       "      <th>Month</th>\n",
       "      <th>Day</th>\n",
       "    </tr>\n",
       "  </thead>\n",
       "  <tbody>\n",
       "    <tr>\n",
       "      <th>0</th>\n",
       "      <td>19.0</td>\n",
       "      <td>6.0</td>\n",
       "      <td>9.0</td>\n",
       "      <td>51.0</td>\n",
       "      <td>2.0</td>\n",
       "      <td>1014.0</td>\n",
       "      <td>2009.0</td>\n",
       "      <td>1.0</td>\n",
       "      <td>1.0</td>\n",
       "    </tr>\n",
       "    <tr>\n",
       "      <th>1</th>\n",
       "      <td>18.0</td>\n",
       "      <td>8.0</td>\n",
       "      <td>12.0</td>\n",
       "      <td>36.0</td>\n",
       "      <td>10.0</td>\n",
       "      <td>1013.0</td>\n",
       "      <td>2010.0</td>\n",
       "      <td>1.0</td>\n",
       "      <td>1.0</td>\n",
       "    </tr>\n",
       "    <tr>\n",
       "      <th>2</th>\n",
       "      <td>15.0</td>\n",
       "      <td>4.0</td>\n",
       "      <td>7.0</td>\n",
       "      <td>48.0</td>\n",
       "      <td>42.0</td>\n",
       "      <td>1015.0</td>\n",
       "      <td>2011.0</td>\n",
       "      <td>1.0</td>\n",
       "      <td>1.0</td>\n",
       "    </tr>\n",
       "    <tr>\n",
       "      <th>3</th>\n",
       "      <td>11.0</td>\n",
       "      <td>2.0</td>\n",
       "      <td>7.0</td>\n",
       "      <td>48.0</td>\n",
       "      <td>3.0</td>\n",
       "      <td>1011.0</td>\n",
       "      <td>2012.0</td>\n",
       "      <td>1.0</td>\n",
       "      <td>1.0</td>\n",
       "    </tr>\n",
       "    <tr>\n",
       "      <th>4</th>\n",
       "      <td>17.0</td>\n",
       "      <td>7.0</td>\n",
       "      <td>7.0</td>\n",
       "      <td>44.0</td>\n",
       "      <td>1.0</td>\n",
       "      <td>1020.0</td>\n",
       "      <td>2013.0</td>\n",
       "      <td>1.0</td>\n",
       "      <td>1.0</td>\n",
       "    </tr>\n",
       "  </tbody>\n",
       "</table>\n",
       "</div>"
      ],
      "text/plain": [
       "    Max  Min  Wind  Humidity  Cloud  Pressure    Year  Month  Day\n",
       "0  19.0  6.0   9.0      51.0    2.0    1014.0  2009.0    1.0  1.0\n",
       "1  18.0  8.0  12.0      36.0   10.0    1013.0  2010.0    1.0  1.0\n",
       "2  15.0  4.0   7.0      48.0   42.0    1015.0  2011.0    1.0  1.0\n",
       "3  11.0  2.0   7.0      48.0    3.0    1011.0  2012.0    1.0  1.0\n",
       "4  17.0  7.0   7.0      44.0    1.0    1020.0  2013.0    1.0  1.0"
      ]
     },
     "execution_count": 308,
     "metadata": {},
     "output_type": "execute_result"
    }
   ],
   "source": [
    "print(len(data2))\n",
    "data2.drop_duplicates()\n",
    "print(len(data2))\n",
    "\n",
    "\n",
    "data2.head()\n"
   ]
  },
  {
   "cell_type": "code",
   "execution_count": 309,
   "metadata": {},
   "outputs": [],
   "source": [
    "# i =len(data1)\n",
    "# while i<0:\n",
    "#     if data1.loc[i]==data1.loc[i-1]:\n",
    "#         data1.drop(data1.loc[i-1],inplace=True)\n",
    "#     i=i-1    "
   ]
  },
  {
   "cell_type": "code",
   "execution_count": null,
   "metadata": {},
   "outputs": [],
   "source": []
  },
  {
   "attachments": {},
   "cell_type": "markdown",
   "metadata": {},
   "source": [
    "Spliting levels and feathers"
   ]
  },
  {
   "cell_type": "code",
   "execution_count": 310,
   "metadata": {},
   "outputs": [],
   "source": [
    "# x = data[['Max','Min','Wind','Humidity','Cloud','Pressure','Year', 'Month', 'Day']].copy()\n",
    "# y = data[['Rain']].copy()"
   ]
  },
  {
   "attachments": {},
   "cell_type": "markdown",
   "metadata": {},
   "source": [
    "Cleaning the data"
   ]
  },
  {
   "cell_type": "code",
   "execution_count": 311,
   "metadata": {},
   "outputs": [],
   "source": [
    "# for i in x.columns:\n",
    "#     x[i] = x[i].replace('[^\\d.]', '', regex=True).astype(float)\n",
    "\n",
    "# for i in y.columns:\n",
    "#     y[i] = y[i].replace('[^\\d.]', '', regex=True).astype(float)"
   ]
  },
  {
   "attachments": {},
   "cell_type": "markdown",
   "metadata": {},
   "source": [
    "Spliting the data in test and train"
   ]
  },
  {
   "cell_type": "code",
   "execution_count": 312,
   "metadata": {},
   "outputs": [],
   "source": [
    "\n",
    "# from sklearn.model_selection import train_test_split\n",
    "# x_train, x_test, y_train, y_test = train_test_split(x, y, test_size=0.2, random_state=0)\n",
    "\n"
   ]
  },
  {
   "attachments": {},
   "cell_type": "markdown",
   "metadata": {},
   "source": [
    "Teasting linear model algorithm"
   ]
  },
  {
   "cell_type": "code",
   "execution_count": 313,
   "metadata": {},
   "outputs": [],
   "source": [
    "# from sklearn.linear_model import LinearRegression\n",
    "# clf = LinearRegression()\n",
    "# clf.fit(x_train, y_train)\n",
    "\n",
    "# y_pred = clf.predict(x_test)\n"
   ]
  },
  {
   "attachments": {},
   "cell_type": "markdown",
   "metadata": {},
   "source": [
    "checking the error"
   ]
  },
  {
   "cell_type": "code",
   "execution_count": 314,
   "metadata": {},
   "outputs": [],
   "source": [
    "# from sklearn.metrics import mean_squared_error\n",
    "# from math import sqrt\n",
    "# msqm1 = mean_squared_error(y_test, y_pred)\n",
    "# rmsqm1 = sqrt(msqm1)\n",
    "# print(rmsqm1)\n"
   ]
  },
  {
   "cell_type": "code",
   "execution_count": 315,
   "metadata": {},
   "outputs": [],
   "source": [
    "# from sklearn.model_selection import cross_val_score\n",
    "# score = cross_val_score(clf, x_train, y_train, cv=15,scoring='neg_mean_squared_error')\n",
    "# print(score)\n",
    "# score1 = sqrt(-score.mean())\n",
    "# print(score1)\n"
   ]
  },
  {
   "cell_type": "code",
   "execution_count": 316,
   "metadata": {},
   "outputs": [],
   "source": [
    "# from sklearn.tree import DecisionTreeRegressor\n",
    "# clf2 = DecisionTreeRegressor()\n",
    "# clf2.fit(x_train, y_train)\n",
    "# y_pred2 = clf2.predict(x_test)\n",
    "# msqm2 = mean_squared_error(y_test, y_pred2)\n",
    "# rmsqm2 = sqrt(msqm2)\n",
    "# print(rmsqm2)\n"
   ]
  },
  {
   "cell_type": "code",
   "execution_count": 317,
   "metadata": {},
   "outputs": [],
   "source": [
    "# score2 = cross_val_score(clf2, x_train, y_train, cv=15,scoring='neg_mean_squared_error')\n",
    "# print(score2)\n",
    "# score3 = sqrt(-score2.mean())\n",
    "# print(score3)\n"
   ]
  },
  {
   "cell_type": "code",
   "execution_count": 318,
   "metadata": {},
   "outputs": [],
   "source": [
    "# from sklearn.ensemble import RandomForestRegressor\n",
    "# clf3 = RandomForestRegressor()\n",
    "# clf3.fit(x_train, y_train)\n",
    "# y_pred3 = clf3.predict(x_test)\n",
    "# msqm3 = mean_squared_error(y_test, y_pred3)\n",
    "# rmsqm3 = sqrt(msqm3)\n",
    "# print(rmsqm3)\n"
   ]
  }
 ],
 "metadata": {
  "kernelspec": {
   "display_name": "Python 3",
   "language": "python",
   "name": "python3"
  },
  "language_info": {
   "codemirror_mode": {
    "name": "ipython",
    "version": 3
   },
   "file_extension": ".py",
   "mimetype": "text/x-python",
   "name": "python",
   "nbconvert_exporter": "python",
   "pygments_lexer": "ipython3",
   "version": "3.11.2"
  },
  "orig_nbformat": 4
 },
 "nbformat": 4,
 "nbformat_minor": 2
}
